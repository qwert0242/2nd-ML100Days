{
 "cells": [
  {
   "cell_type": "markdown",
   "metadata": {},
   "source": [
    "# 作業\n",
    "* 試著想想看, 非監督學習是否有可能使用評價函數 (Metric) 來鑑別好壞呢?  \n",
    "(Hint : 可以分為 \"有目標值\" 與 \"無目標值\" 兩個方向思考)"
   ]
  },
  {
   "cell_type": "markdown",
   "metadata": {
    "collapsed": true
   },
   "source": [
    "## 非監督式學習與監督式學習最大的不同之處就在於它的訓練資料是沒有標籤（答案）的\n",
    "## A:非監督學習的衡量沒有標準方法，具體的應用會導致不同的評估方法，距離度量和密度估計是比較直觀的判斷方法。 異常檢測也有類似的性質，但往往比聚類更難(因為資料不平衡)\n",
    "1. 将无监督变成“有监督”学习 - 生成标签\n",
    "2. 相似度分析 (similarity analysis)\n",
    "3. 分布拟合、排序、统计学方法\n",
    "4. 不同模型之间的对比和融合"
   ]
  },
  {
   "cell_type": "code",
   "execution_count": null,
   "metadata": {},
   "outputs": [],
   "source": []
  }
 ],
 "metadata": {
  "kernelspec": {
   "display_name": "Python 3",
   "language": "python",
   "name": "python3"
  },
  "language_info": {
   "codemirror_mode": {
    "name": "ipython",
    "version": 3
   },
   "file_extension": ".py",
   "mimetype": "text/x-python",
   "name": "python",
   "nbconvert_exporter": "python",
   "pygments_lexer": "ipython3",
   "version": "3.6.8"
  }
 },
 "nbformat": 4,
 "nbformat_minor": 1
}
