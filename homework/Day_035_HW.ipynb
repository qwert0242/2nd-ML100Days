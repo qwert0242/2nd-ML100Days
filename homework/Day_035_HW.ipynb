{
 "cells": [
  {
   "cell_type": "markdown",
   "metadata": {},
   "source": [
    "## 練習時間\n",
    "相信大家對回歸問題及分類問題都有初步的了解。今天的作業希望大家搜尋有關 multi-label 的案例問題。下圖是電影 \"奇異博士\" 的分類。可以看到同時有 \"Action\", \"Adventure\", \"Fantasy\" 的類別存在，代表這是個多標籤的問題。 "
   ]
  },
  {
   "cell_type": "markdown",
   "metadata": {},
   "source": [
    "![image](https://cdn-images-1.medium.com/max/1000/1*r0gYXMSQf5VhdMyl2bRDyg.png)"
   ]
  },
  {
   "cell_type": "markdown",
   "metadata": {},
   "source": [
    "## 請搜尋目標為多標籤問題 (Multi-label) 的機器學習案例，了解其資料來源、目標以及評估指標為何\n",
    "## Hint: 服飾"
   ]
  },
  {
   "cell_type": "markdown",
   "metadata": {},
   "source": [
    "多標籤的案例:音訊分類(音樂流派 ex.放鬆的平靜，或“悲傷的孤獨”等等情感或情緒的基礎等..) 來源KKBOX、Spotify\n",
    "             影象分類(照片標記不同物件或人)\n",
    "             生物資訊學(ex.在酵母資料集中的基因分類。它還被用來使用幾個未標記的蛋白質來預測蛋白質的多重功能)\n",
    "             文字分類(google新聞所做的是，將每條新聞都標記為一個或多個類別，這樣它就會顯示在不同的類別之下)\n",
    "             \n",
    "(1)類標數量不確定，有些樣本可能只有一個類標，有些樣本的類標可能高達幾十甚至上百個。\n",
    "\n",
    "(2)類標之間相互依賴，例如包含藍天類標的樣本很大概率上包含白雲，如何解決類標之間的依賴性問題也是一大難點。\n",
    "\n",
    "這些目標大致上可幫助找到相應的客群或是當作過濾的條件\n",
    "使用accuracy score、Mean F1-Score為評估指標"
   ]
  },
  {
   "cell_type": "code",
   "execution_count": null,
   "metadata": {},
   "outputs": [],
   "source": []
  }
 ],
 "metadata": {
  "kernelspec": {
   "display_name": "Python 3",
   "language": "python",
   "name": "python3"
  },
  "language_info": {
   "codemirror_mode": {
    "name": "ipython",
    "version": 3
   },
   "file_extension": ".py",
   "mimetype": "text/x-python",
   "name": "python",
   "nbconvert_exporter": "python",
   "pygments_lexer": "ipython3",
   "version": "3.7.3"
  }
 },
 "nbformat": 4,
 "nbformat_minor": 2
}
