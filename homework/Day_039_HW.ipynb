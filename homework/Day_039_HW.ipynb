{
 "cells": [
  {
   "cell_type": "markdown",
   "metadata": {},
   "source": [
    "## [作業重點]\n",
    "清楚了解 L1, L2 的意義與差異為何，並了解 LASSO 與 Ridge 之間的差異與使用情境"
   ]
  },
  {
   "cell_type": "markdown",
   "metadata": {},
   "source": [
    "## 作業"
   ]
  },
  {
   "cell_type": "markdown",
   "metadata": {},
   "source": [
    "請閱讀相關文獻，並回答下列問題\n",
    "\n",
    "[脊回歸 (Ridge Regression)](https://blog.csdn.net/daunxx/article/details/51578787)\n",
    "[Linear, Ridge, Lasso Regression 本質區別](https://www.zhihu.com/question/38121173)\n",
    "\n",
    "1. LASSO 回歸可以被用來作為 Feature selection 的工具，請了解 LASSO 模型為什麼可用來作 Feature selection\n",
    "\n",
    "A: Lasso 利用L1懲罰函式讓較小的迴歸係數(特征选取不重要的参数)變為0，随着越来越多的系数變成了0，因此lasso可以實現對變量的選擇（係數為0的變數就被篩掉了）\n",
    "然而LASSO雖然可以做Feature selection，但是不consistent啊，而且當n很小时至多只能選出n個變量；而且不能做group selection。\n",
    "Lasso在乎的是参数的絕對大小，而Ridge在乎的是参數平方的大小。\n",
    "ridge是用L2 penalty，旨在把系數變得小一些，但非完全成零。\n",
    "\n",
    "2. 當自變數 (X) 存在高度共線性時，Ridge Regression 可以處理這樣的問題嗎?\n",
    "\n",
    "A:可以，脊迴歸是一種修改最小平方法，允許有偏估計量，進而改善多重共線性問題的方法(嶺迴歸通過收縮引數λ（lambda）)\n",
    "\n",
    "嶺迴歸通過給迴歸估計上增加一個偏差度，來降低標準誤差。\n",
    "\n",
    "1.除常數項以外，這種迴歸的假設與最小二乘迴歸類似；\n",
    "\n",
    "2.它收縮了相關係數的值，但沒有達到零，這表明它沒有特徵選擇功能\n",
    "\n",
    "3.這是一個正則化方法，並且使用的是L2正則化。"
   ]
  },
  {
   "cell_type": "code",
   "execution_count": null,
   "metadata": {},
   "outputs": [],
   "source": []
  }
 ],
 "metadata": {
  "kernelspec": {
   "display_name": "Python 3",
   "language": "python",
   "name": "python3"
  },
  "language_info": {
   "codemirror_mode": {
    "name": "ipython",
    "version": 3
   },
   "file_extension": ".py",
   "mimetype": "text/x-python",
   "name": "python",
   "nbconvert_exporter": "python",
   "pygments_lexer": "ipython3",
   "version": "3.7.3"
  }
 },
 "nbformat": 4,
 "nbformat_minor": 2
}
