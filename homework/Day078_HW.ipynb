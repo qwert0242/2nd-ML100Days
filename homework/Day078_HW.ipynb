{
 "cells": [
  {
   "cell_type": "markdown",
   "metadata": {},
   "source": [
    "## Work\n",
    "1. 請嘗試將 preproc_x 替換成以每筆資料的 min/max 進行標準化至 -1 ~ 1 間，再進行訓練\n",
    "2. 請嘗試將 mlp 疊更深 (e.g 5~10 層)，進行訓練後觀察 learning curve 的走勢\n",
    "3. (optional) 請改用 GPU 進行訓練 (如果你有 GPU 的話)，比較使用 CPU 與 GPU 的訓練速度"
   ]
  },
  {
   "cell_type": "code",
   "execution_count": 1,
   "metadata": {},
   "outputs": [
    {
     "name": "stderr",
     "output_type": "stream",
     "text": [
      "'nvidia-smi' 不是內部或外部命令、可執行的程式或批次檔。\n"
     ]
    }
   ],
   "source": [
    "## \n",
    "\"\"\"\n",
    "Your code here (optional)\n",
    "確認硬體資源\n",
    "\"\"\"\n",
    "!nvidia-smi"
   ]
  },
  {
   "cell_type": "code",
   "execution_count": 12,
   "metadata": {},
   "outputs": [],
   "source": [
    "import os\n",
    "import keras\n",
    "\n",
    "# 請嘗試設定 GPU：os.environ\n",
    "os.environ['CUDA-VISIBLE-DEVICES']=\"0\""
   ]
  },
  {
   "cell_type": "code",
   "execution_count": 13,
   "metadata": {},
   "outputs": [],
   "source": [
    "train, test = keras.datasets.cifar10.load_data()"
   ]
  },
  {
   "cell_type": "code",
   "execution_count": 14,
   "metadata": {},
   "outputs": [],
   "source": [
    "## 資料前處理\n",
    "#請嘗試將 preproc_x 替換成以每筆資料的 min/max 進行標準化至 -1 ~ 1 間，再進行訓練\n",
    "\"\"\"\n",
    "Your code here\n",
    "\"\"\"\n",
    "def preproc_x(x, flatten=True):\n",
    "    x = ((x-x.min())/(x.max()-x.min()))\n",
    "    if flatten:\n",
    "        x = x.reshape((len(x), -1))\n",
    "    return x\n",
    "\n",
    "def preproc_y(y, num_classes=10):\n",
    "    if y.shape[-1] == 1:\n",
    "        y = keras.utils.to_categorical(y, num_classes)\n",
    "    return y "
   ]
  },
  {
   "cell_type": "code",
   "execution_count": 15,
   "metadata": {},
   "outputs": [],
   "source": [
    "x_train, y_train = train\n",
    "x_test, y_test = test\n",
    "\n",
    "# Preproc the inputs\n",
    "x_train = preproc_x(x_train)\n",
    "x_test = preproc_x(x_test)\n",
    "\n",
    "# Preprc the outputs\n",
    "y_train = preproc_y(y_train)\n",
    "y_test = preproc_y(y_test)"
   ]
  },
  {
   "cell_type": "markdown",
   "metadata": {},
   "source": [
    "建立一個 Model 一定要有 input_layer (Keras.layers.Input) ，這邊其實也可以寫成 x = keras.layers.Input，這樣就不用特別去給定 i == 0 的時候要特別去接 input_layer，出題教練應該是希望讓學員可以更清楚看到 input_layer 的位置而已"
   ]
  },
  {
   "cell_type": "code",
   "execution_count": 16,
   "metadata": {},
   "outputs": [],
   "source": [
    "\"\"\"Code Here\n",
    "建立你的神經網路\n",
    "\"\"\"\n",
    "def build_mlp(input_shape, output_units=10, num_neurons=[512, 256, 128, 64, 32]):\n",
    "    input_layer = keras.layers.Input(input_shape)\n",
    "    \n",
    "    for i, n_units in enumerate(num_neurons):\n",
    "        if i == 0:\n",
    "            x = keras.layers.Dense(units=n_units, activation=\"relu\", name=\"hidden_layer\"+str(i+1))(input_layer)\n",
    "        else:\n",
    "            x = keras.layers.Dense(units=n_units, activation=\"relu\", name=\"hidden_layer\"+str(i+1))(x)\n",
    "    \n",
    "    out = keras.layers.Dense(units=output_units, activation=\"softmax\", name=\"output\")(x)\n",
    "    \n",
    "    model = keras.models.Model(inputs=[input_layer], outputs=[out])\n",
    "    return model\n",
    "\n"
   ]
  },
  {
   "cell_type": "code",
   "execution_count": 17,
   "metadata": {},
   "outputs": [
    {
     "name": "stdout",
     "output_type": "stream",
     "text": [
      "_________________________________________________________________\n",
      "Layer (type)                 Output Shape              Param #   \n",
      "=================================================================\n",
      "input_2 (InputLayer)         (None, 3072)              0         \n",
      "_________________________________________________________________\n",
      "hidden_layer1 (Dense)        (None, 512)               1573376   \n",
      "_________________________________________________________________\n",
      "hidden_layer2 (Dense)        (None, 256)               131328    \n",
      "_________________________________________________________________\n",
      "hidden_layer3 (Dense)        (None, 128)               32896     \n",
      "_________________________________________________________________\n",
      "hidden_layer4 (Dense)        (None, 64)                8256      \n",
      "_________________________________________________________________\n",
      "hidden_layer5 (Dense)        (None, 32)                2080      \n",
      "_________________________________________________________________\n",
      "output (Dense)               (None, 10)                330       \n",
      "=================================================================\n",
      "Total params: 1,748,266\n",
      "Trainable params: 1,748,266\n",
      "Non-trainable params: 0\n",
      "_________________________________________________________________\n"
     ]
    }
   ],
   "source": [
    "model = build_mlp(input_shape=x_train.shape[1:])\n",
    "model.summary()"
   ]
  },
  {
   "cell_type": "code",
   "execution_count": 18,
   "metadata": {},
   "outputs": [],
   "source": [
    "## 超參數設定\n",
    "LEARNING_RATE = 0.001\n",
    "EPOCHS = 100\n",
    "BATCH_SIZE = 256"
   ]
  },
  {
   "cell_type": "code",
   "execution_count": 19,
   "metadata": {},
   "outputs": [],
   "source": [
    "optimizer = keras.optimizers.Adam(lr=LEARNING_RATE)\n",
    "model.compile(loss=\"categorical_crossentropy\", metrics=[\"accuracy\"], optimizer=optimizer)"
   ]
  },
  {
   "cell_type": "code",
   "execution_count": 20,
   "metadata": {},
   "outputs": [
    {
     "name": "stdout",
     "output_type": "stream",
     "text": [
      "Train on 50000 samples, validate on 10000 samples\n",
      "Epoch 1/100\n",
      "50000/50000 [==============================] - 11s 223us/step - loss: 1.9873 - acc: 0.2702 - val_loss: 1.8594 - val_acc: 0.3235\n",
      "Epoch 2/100\n",
      "50000/50000 [==============================] - 9s 178us/step - loss: 1.7685 - acc: 0.3612 - val_loss: 1.6799 - val_acc: 0.4004\n",
      "Epoch 3/100\n",
      "50000/50000 [==============================] - 9s 178us/step - loss: 1.6611 - acc: 0.4025 - val_loss: 1.6005 - val_acc: 0.4266\n",
      "Epoch 4/100\n",
      "50000/50000 [==============================] - 9s 174us/step - loss: 1.5803 - acc: 0.4360 - val_loss: 1.5742 - val_acc: 0.4444\n",
      "Epoch 5/100\n",
      "50000/50000 [==============================] - 9s 184us/step - loss: 1.5294 - acc: 0.4545 - val_loss: 1.5243 - val_acc: 0.4632\n",
      "Epoch 6/100\n",
      "50000/50000 [==============================] - 8s 165us/step - loss: 1.4907 - acc: 0.4684 - val_loss: 1.5225 - val_acc: 0.4580\n",
      "Epoch 7/100\n",
      "50000/50000 [==============================] - 9s 184us/step - loss: 1.4497 - acc: 0.4836 - val_loss: 1.5077 - val_acc: 0.4627\n",
      "Epoch 8/100\n",
      "50000/50000 [==============================] - 9s 180us/step - loss: 1.4182 - acc: 0.4928 - val_loss: 1.4663 - val_acc: 0.4772\n",
      "Epoch 9/100\n",
      "50000/50000 [==============================] - 9s 174us/step - loss: 1.3941 - acc: 0.5045 - val_loss: 1.4569 - val_acc: 0.4850\n",
      "Epoch 10/100\n",
      "50000/50000 [==============================] - 9s 176us/step - loss: 1.3636 - acc: 0.5143 - val_loss: 1.4403 - val_acc: 0.4872\n",
      "Epoch 11/100\n",
      "50000/50000 [==============================] - 9s 185us/step - loss: 1.3421 - acc: 0.5202 - val_loss: 1.4569 - val_acc: 0.4816\n",
      "Epoch 12/100\n",
      "50000/50000 [==============================] - 9s 186us/step - loss: 1.3198 - acc: 0.5285 - val_loss: 1.4347 - val_acc: 0.4875\n",
      "Epoch 13/100\n",
      "50000/50000 [==============================] - 8s 162us/step - loss: 1.2938 - acc: 0.5396 - val_loss: 1.4139 - val_acc: 0.4959\n",
      "Epoch 14/100\n",
      "50000/50000 [==============================] - 9s 186us/step - loss: 1.2770 - acc: 0.5462 - val_loss: 1.3837 - val_acc: 0.5076\n",
      "Epoch 15/100\n",
      "50000/50000 [==============================] - 9s 186us/step - loss: 1.2378 - acc: 0.5568 - val_loss: 1.3867 - val_acc: 0.5047\n",
      "Epoch 16/100\n",
      "50000/50000 [==============================] - 9s 186us/step - loss: 1.2230 - acc: 0.5634 - val_loss: 1.3699 - val_acc: 0.5168\n",
      "Epoch 17/100\n",
      "50000/50000 [==============================] - 9s 185us/step - loss: 1.2099 - acc: 0.5695 - val_loss: 1.3765 - val_acc: 0.5146\n",
      "Epoch 18/100\n",
      "50000/50000 [==============================] - 9s 185us/step - loss: 1.1890 - acc: 0.5785 - val_loss: 1.4763 - val_acc: 0.4933\n",
      "Epoch 19/100\n",
      "50000/50000 [==============================] - 9s 183us/step - loss: 1.1662 - acc: 0.5833 - val_loss: 1.4016 - val_acc: 0.5116\n",
      "Epoch 20/100\n",
      "50000/50000 [==============================] - 7s 145us/step - loss: 1.1416 - acc: 0.5929 - val_loss: 1.3523 - val_acc: 0.5256\n",
      "Epoch 21/100\n",
      "50000/50000 [==============================] - 9s 184us/step - loss: 1.1232 - acc: 0.5998 - val_loss: 1.4072 - val_acc: 0.5152\n",
      "Epoch 22/100\n",
      "50000/50000 [==============================] - 9s 186us/step - loss: 1.1046 - acc: 0.6059 - val_loss: 1.3795 - val_acc: 0.5099\n",
      "Epoch 23/100\n",
      "50000/50000 [==============================] - 9s 175us/step - loss: 1.0859 - acc: 0.6139 - val_loss: 1.3900 - val_acc: 0.5183\n",
      "Epoch 24/100\n",
      "50000/50000 [==============================] - 8s 165us/step - loss: 1.0622 - acc: 0.6213 - val_loss: 1.3844 - val_acc: 0.5199\n",
      "Epoch 25/100\n",
      "50000/50000 [==============================] - 9s 182us/step - loss: 1.0437 - acc: 0.6281 - val_loss: 1.3939 - val_acc: 0.5187\n",
      "Epoch 26/100\n",
      "50000/50000 [==============================] - 9s 173us/step - loss: 1.0389 - acc: 0.6291 - val_loss: 1.4008 - val_acc: 0.5224\n",
      "Epoch 27/100\n",
      "50000/50000 [==============================] - 6s 124us/step - loss: 1.0073 - acc: 0.6425 - val_loss: 1.4343 - val_acc: 0.5159\n",
      "Epoch 28/100\n",
      "50000/50000 [==============================] - 9s 183us/step - loss: 0.9995 - acc: 0.6430 - val_loss: 1.3808 - val_acc: 0.5323\n",
      "Epoch 29/100\n",
      "50000/50000 [==============================] - 9s 175us/step - loss: 0.9709 - acc: 0.6521 - val_loss: 1.3988 - val_acc: 0.5265\n",
      "Epoch 30/100\n",
      "50000/50000 [==============================] - 9s 182us/step - loss: 0.9584 - acc: 0.6575 - val_loss: 1.4129 - val_acc: 0.5222\n",
      "Epoch 31/100\n",
      "50000/50000 [==============================] - 8s 168us/step - loss: 0.9337 - acc: 0.6667 - val_loss: 1.4590 - val_acc: 0.5179\n",
      "Epoch 32/100\n",
      "50000/50000 [==============================] - 9s 179us/step - loss: 0.9234 - acc: 0.6682 - val_loss: 1.4235 - val_acc: 0.5239\n",
      "Epoch 33/100\n",
      "50000/50000 [==============================] - 9s 183us/step - loss: 0.9071 - acc: 0.6742 - val_loss: 1.4806 - val_acc: 0.5145\n",
      "Epoch 34/100\n",
      "50000/50000 [==============================] - 7s 130us/step - loss: 0.8878 - acc: 0.6834 - val_loss: 1.4715 - val_acc: 0.5234\n",
      "Epoch 35/100\n",
      "50000/50000 [==============================] - 9s 183us/step - loss: 0.8584 - acc: 0.6942 - val_loss: 1.5187 - val_acc: 0.5150\n",
      "Epoch 36/100\n",
      "50000/50000 [==============================] - 9s 172us/step - loss: 0.8544 - acc: 0.6931 - val_loss: 1.5801 - val_acc: 0.5111\n",
      "Epoch 37/100\n",
      "50000/50000 [==============================] - 9s 183us/step - loss: 0.8402 - acc: 0.7004 - val_loss: 1.5124 - val_acc: 0.5228\n",
      "Epoch 38/100\n",
      "50000/50000 [==============================] - 8s 168us/step - loss: 0.8151 - acc: 0.7097 - val_loss: 1.5424 - val_acc: 0.5237\n",
      "Epoch 39/100\n",
      "50000/50000 [==============================] - 9s 183us/step - loss: 0.8074 - acc: 0.7125 - val_loss: 1.6389 - val_acc: 0.5058\n",
      "Epoch 40/100\n",
      "50000/50000 [==============================] - 9s 185us/step - loss: 0.7871 - acc: 0.7187 - val_loss: 1.5681 - val_acc: 0.5270\n",
      "Epoch 41/100\n",
      "50000/50000 [==============================] - 6s 128us/step - loss: 0.7925 - acc: 0.7151 - val_loss: 1.5673 - val_acc: 0.5203\n",
      "Epoch 42/100\n",
      "50000/50000 [==============================] - 9s 183us/step - loss: 0.7500 - acc: 0.7335 - val_loss: 1.6396 - val_acc: 0.5190\n",
      "Epoch 43/100\n",
      "50000/50000 [==============================] - 9s 182us/step - loss: 0.7524 - acc: 0.7314 - val_loss: 1.6239 - val_acc: 0.5247\n",
      "Epoch 44/100\n",
      "50000/50000 [==============================] - 9s 179us/step - loss: 0.7217 - acc: 0.7429 - val_loss: 1.6534 - val_acc: 0.5239\n",
      "Epoch 45/100\n",
      "50000/50000 [==============================] - 8s 169us/step - loss: 0.7312 - acc: 0.7396 - val_loss: 1.6528 - val_acc: 0.5194\n",
      "Epoch 46/100\n",
      "50000/50000 [==============================] - 9s 183us/step - loss: 0.7070 - acc: 0.7489 - val_loss: 1.7155 - val_acc: 0.5121\n",
      "Epoch 47/100\n",
      "50000/50000 [==============================] - 9s 183us/step - loss: 0.6974 - acc: 0.7516 - val_loss: 1.7379 - val_acc: 0.5175\n",
      "Epoch 48/100\n",
      "50000/50000 [==============================] - 6s 130us/step - loss: 0.6736 - acc: 0.7589 - val_loss: 1.6926 - val_acc: 0.5246\n",
      "Epoch 49/100\n",
      "50000/50000 [==============================] - 9s 184us/step - loss: 0.6573 - acc: 0.7672 - val_loss: 1.7491 - val_acc: 0.5215\n",
      "Epoch 50/100\n",
      "50000/50000 [==============================] - 9s 184us/step - loss: 0.6514 - acc: 0.7661 - val_loss: 1.7874 - val_acc: 0.5192\n",
      "Epoch 51/100\n",
      "50000/50000 [==============================] - 9s 183us/step - loss: 0.6391 - acc: 0.7718 - val_loss: 1.7861 - val_acc: 0.5153\n",
      "Epoch 52/100\n",
      "50000/50000 [==============================] - 9s 178us/step - loss: 0.6390 - acc: 0.7710 - val_loss: 1.8559 - val_acc: 0.5202\n",
      "Epoch 53/100\n",
      "50000/50000 [==============================] - 9s 184us/step - loss: 0.6206 - acc: 0.7781 - val_loss: 1.8637 - val_acc: 0.5237\n",
      "Epoch 54/100\n",
      "50000/50000 [==============================] - 8s 165us/step - loss: 0.5915 - acc: 0.7904 - val_loss: 1.8696 - val_acc: 0.5120\n",
      "Epoch 55/100\n",
      "50000/50000 [==============================] - 6s 124us/step - loss: 0.5971 - acc: 0.7875 - val_loss: 1.9140 - val_acc: 0.5158\n",
      "Epoch 56/100\n",
      "50000/50000 [==============================] - 9s 183us/step - loss: 0.5777 - acc: 0.7941 - val_loss: 1.9110 - val_acc: 0.5155\n",
      "Epoch 57/100\n",
      "50000/50000 [==============================] - 7s 141us/step - loss: 0.5757 - acc: 0.7939 - val_loss: 2.0093 - val_acc: 0.5127\n",
      "Epoch 58/100\n",
      "50000/50000 [==============================] - 9s 183us/step - loss: 0.5658 - acc: 0.7978 - val_loss: 1.9739 - val_acc: 0.5181\n",
      "Epoch 59/100\n"
     ]
    },
    {
     "name": "stdout",
     "output_type": "stream",
     "text": [
      "50000/50000 [==============================] - 9s 181us/step - loss: 0.5534 - acc: 0.8023 - val_loss: 2.0182 - val_acc: 0.5196\n",
      "Epoch 60/100\n",
      "50000/50000 [==============================] - 8s 163us/step - loss: 0.5404 - acc: 0.8084 - val_loss: 2.0397 - val_acc: 0.5100\n",
      "Epoch 61/100\n",
      "50000/50000 [==============================] - 9s 181us/step - loss: 0.5408 - acc: 0.8074 - val_loss: 2.0672 - val_acc: 0.5217\n",
      "Epoch 62/100\n",
      "50000/50000 [==============================] - 9s 170us/step - loss: 0.5136 - acc: 0.8152 - val_loss: 2.1409 - val_acc: 0.5080\n",
      "Epoch 63/100\n",
      "50000/50000 [==============================] - 9s 182us/step - loss: 0.5088 - acc: 0.8179 - val_loss: 2.1415 - val_acc: 0.5115\n",
      "Epoch 64/100\n",
      "50000/50000 [==============================] - 9s 182us/step - loss: 0.4915 - acc: 0.8253 - val_loss: 2.1621 - val_acc: 0.5090\n",
      "Epoch 65/100\n",
      "50000/50000 [==============================] - 9s 183us/step - loss: 0.5209 - acc: 0.8127 - val_loss: 2.1431 - val_acc: 0.5097\n",
      "Epoch 66/100\n",
      "50000/50000 [==============================] - 9s 180us/step - loss: 0.4824 - acc: 0.8286 - val_loss: 2.2492 - val_acc: 0.5109\n",
      "Epoch 67/100\n",
      "50000/50000 [==============================] - 8s 164us/step - loss: 0.4821 - acc: 0.8270 - val_loss: 2.1565 - val_acc: 0.5158\n",
      "Epoch 68/100\n",
      "50000/50000 [==============================] - 9s 174us/step - loss: 0.4682 - acc: 0.8329 - val_loss: 2.2603 - val_acc: 0.5197\n",
      "Epoch 69/100\n",
      "50000/50000 [==============================] - 7s 136us/step - loss: 0.4675 - acc: 0.8340 - val_loss: 2.2562 - val_acc: 0.5070\n",
      "Epoch 70/100\n",
      "50000/50000 [==============================] - 9s 183us/step - loss: 0.4814 - acc: 0.8264 - val_loss: 2.3517 - val_acc: 0.5010\n",
      "Epoch 71/100\n",
      "50000/50000 [==============================] - 9s 171us/step - loss: 0.4405 - acc: 0.8422 - val_loss: 2.4009 - val_acc: 0.5009\n",
      "Epoch 72/100\n",
      "50000/50000 [==============================] - 9s 185us/step - loss: 0.4503 - acc: 0.8382 - val_loss: 2.3819 - val_acc: 0.5068\n",
      "Epoch 73/100\n",
      "50000/50000 [==============================] - 9s 184us/step - loss: 0.4436 - acc: 0.8405 - val_loss: 2.3567 - val_acc: 0.5090\n",
      "Epoch 74/100\n",
      "50000/50000 [==============================] - 9s 185us/step - loss: 0.4434 - acc: 0.8419 - val_loss: 2.3943 - val_acc: 0.5038\n",
      "Epoch 75/100\n",
      "50000/50000 [==============================] - 9s 178us/step - loss: 0.4066 - acc: 0.8535 - val_loss: 2.3716 - val_acc: 0.5110\n",
      "Epoch 76/100\n",
      "50000/50000 [==============================] - 7s 148us/step - loss: 0.4307 - acc: 0.8459 - val_loss: 2.4778 - val_acc: 0.5123\n",
      "Epoch 77/100\n",
      "50000/50000 [==============================] - 9s 181us/step - loss: 0.4232 - acc: 0.8482 - val_loss: 2.4504 - val_acc: 0.5024\n",
      "Epoch 78/100\n",
      "50000/50000 [==============================] - 8s 161us/step - loss: 0.3914 - acc: 0.8623 - val_loss: 2.4667 - val_acc: 0.5113\n",
      "Epoch 79/100\n",
      "50000/50000 [==============================] - 10s 192us/step - loss: 0.3901 - acc: 0.8612 - val_loss: 2.5727 - val_acc: 0.5058\n",
      "Epoch 80/100\n",
      "50000/50000 [==============================] - 8s 152us/step - loss: 0.4060 - acc: 0.8546 - val_loss: 2.5406 - val_acc: 0.5040\n",
      "Epoch 81/100\n",
      "50000/50000 [==============================] - 8s 158us/step - loss: 0.3740 - acc: 0.8662 - val_loss: 2.5698 - val_acc: 0.5141\n",
      "Epoch 82/100\n",
      "50000/50000 [==============================] - 9s 186us/step - loss: 0.3856 - acc: 0.8624 - val_loss: 2.5572 - val_acc: 0.4996\n",
      "Epoch 83/100\n",
      "50000/50000 [==============================] - 7s 140us/step - loss: 0.4015 - acc: 0.8548 - val_loss: 2.6191 - val_acc: 0.5061\n",
      "Epoch 84/100\n",
      "50000/50000 [==============================] - 9s 190us/step - loss: 0.3644 - acc: 0.8697 - val_loss: 2.6118 - val_acc: 0.5099\n",
      "Epoch 85/100\n",
      "50000/50000 [==============================] - 9s 189us/step - loss: 0.3682 - acc: 0.8678 - val_loss: 2.7196 - val_acc: 0.5010\n",
      "Epoch 86/100\n",
      "50000/50000 [==============================] - 7s 149us/step - loss: 0.3783 - acc: 0.8647 - val_loss: 2.6170 - val_acc: 0.5113\n",
      "Epoch 87/100\n",
      "50000/50000 [==============================] - 8s 164us/step - loss: 0.3325 - acc: 0.8806 - val_loss: 2.6704 - val_acc: 0.5087\n",
      "Epoch 88/100\n",
      "50000/50000 [==============================] - 7s 142us/step - loss: 0.3658 - acc: 0.8709 - val_loss: 2.7235 - val_acc: 0.5039\n",
      "Epoch 89/100\n",
      "50000/50000 [==============================] - 9s 171us/step - loss: 0.3411 - acc: 0.8790 - val_loss: 2.7318 - val_acc: 0.5107\n",
      "Epoch 90/100\n",
      "50000/50000 [==============================] - 8s 158us/step - loss: 0.3526 - acc: 0.8734 - val_loss: 2.8033 - val_acc: 0.5008\n",
      "Epoch 91/100\n",
      "50000/50000 [==============================] - 9s 189us/step - loss: 0.3336 - acc: 0.8815 - val_loss: 2.8544 - val_acc: 0.5038\n",
      "Epoch 92/100\n",
      "50000/50000 [==============================] - 9s 189us/step - loss: 0.3362 - acc: 0.8804 - val_loss: 2.8380 - val_acc: 0.5061\n",
      "Epoch 93/100\n",
      "50000/50000 [==============================] - 9s 187us/step - loss: 0.3238 - acc: 0.8857 - val_loss: 2.8738 - val_acc: 0.5004\n",
      "Epoch 94/100\n",
      "50000/50000 [==============================] - 9s 183us/step - loss: 0.3304 - acc: 0.8826 - val_loss: 2.9135 - val_acc: 0.4984\n",
      "Epoch 95/100\n",
      "50000/50000 [==============================] - 8s 155us/step - loss: 0.3332 - acc: 0.8822 - val_loss: 2.8883 - val_acc: 0.5048\n",
      "Epoch 96/100\n",
      "50000/50000 [==============================] - 9s 175us/step - loss: 0.3239 - acc: 0.8846 - val_loss: 2.9798 - val_acc: 0.4998\n",
      "Epoch 97/100\n",
      "50000/50000 [==============================] - 7s 131us/step - loss: 0.2984 - acc: 0.8945 - val_loss: 2.8894 - val_acc: 0.5036\n",
      "Epoch 98/100\n",
      "50000/50000 [==============================] - 7s 139us/step - loss: 0.3224 - acc: 0.8846 - val_loss: 3.0037 - val_acc: 0.5000\n",
      "Epoch 99/100\n",
      "50000/50000 [==============================] - 9s 187us/step - loss: 0.3240 - acc: 0.8851 - val_loss: 2.9815 - val_acc: 0.4957\n",
      "Epoch 100/100\n",
      "50000/50000 [==============================] - 8s 165us/step - loss: 0.3132 - acc: 0.8888 - val_loss: 2.9986 - val_acc: 0.5066\n"
     ]
    },
    {
     "data": {
      "text/plain": [
       "<keras.callbacks.History at 0x1e7200c6b38>"
      ]
     },
     "execution_count": 20,
     "metadata": {},
     "output_type": "execute_result"
    }
   ],
   "source": [
    "model.fit(x_train, y_train, \n",
    "          epochs=EPOCHS, \n",
    "          batch_size=BATCH_SIZE, \n",
    "          validation_data=(x_test, y_test), \n",
    "          shuffle=True)"
   ]
  },
  {
   "cell_type": "code",
   "execution_count": 22,
   "metadata": {},
   "outputs": [
    {
     "data": {
      "image/png": "[encoded data removed]",
      "text/plain": [
       "<Figure size 432x288 with 1 Axes>"
      ]
     },
     "metadata": {
      "needs_background": "light"
     },
     "output_type": "display_data"
    },
    {
     "data": {
      "image/png": "[encoded data removed]",
      "text/plain": [
       "<Figure size 432x288 with 1 Axes>"
      ]
     },
     "metadata": {
      "needs_background": "light"
     },
     "output_type": "display_data"
    }
   ],
   "source": [
    "import matplotlib.pyplot as plt\n",
    "\n",
    "\n",
    "train_loss = model.history.history[\"loss\"]\n",
    "valid_loss = model.history.history[\"val_loss\"]\n",
    "\n",
    "train_acc = model.history.history[\"acc\"]\n",
    "valid_acc = model.history.history[\"val_acc\"]\n",
    "\n",
    "plt.plot(range(len(train_loss)), train_loss, label=\"train loss\")\n",
    "plt.plot(range(len(valid_loss)), valid_loss, label=\"valid loss\")\n",
    "plt.legend()\n",
    "plt.title(\"Loss\")\n",
    "plt.show()\n",
    "\n",
    "plt.plot(range(len(train_acc)), train_acc, label=\"train accuracy\")\n",
    "plt.plot(range(len(valid_acc)), valid_acc, label=\"valid accuracy\")\n",
    "plt.legend()\n",
    "plt.title(\"Accuracy\")\n",
    "plt.show()\n",
    "\n"
   ]
  },
  {
   "cell_type": "code",
   "execution_count": null,
   "metadata": {},
   "outputs": [],
   "source": []
  }
 ],
 "metadata": {
  "kernelspec": {
   "display_name": "Python 3",
   "language": "python",
   "name": "python3"
  },
  "language_info": {
   "codemirror_mode": {
    "name": "ipython",
    "version": 3
   },
   "file_extension": ".py",
   "mimetype": "text/x-python",
   "name": "python",
   "nbconvert_exporter": "python",
   "pygments_lexer": "ipython3",
   "version": "3.6.8"
  }
 },
 "nbformat": 4,
 "nbformat_minor": 2
}
