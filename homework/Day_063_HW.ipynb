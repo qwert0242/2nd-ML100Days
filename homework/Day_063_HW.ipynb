{
 "cells": [
  {
   "cell_type": "markdown",
   "metadata": {},
   "source": [
    "# 作業\n",
    "* 在精簡深度學習的方式上 : 卷積類神經 (CNN) 採用像素遠近，而遞歸類神經 (RNN) 採用著則是時間遠近\n",
    "* 那麼，既然有著類似的設計精神，兩者是否有可能互換應用呢?"
   ]
  },
  {
   "cell_type": "markdown",
   "metadata": {
    "collapsed": true
   },
   "source": [
    "可交互應用\n",
    "\n",
    "相同點：\n",
    "1. 傳統神經網絡的擴展。\n",
    "2. 前向計算產生結果，反向計算模型更新。\n",
    "3. 每層神經網絡橫向可以多個神經元共存,縱向可以有多層神經網絡連接。\n",
    "\n",
    "不同點\n",
    "1. CNN空間擴展，神經元與特征卷積；RNN時間擴展，神經元與多個時間輸出計算\n",
    "2. RNN可以用於描述時間上連續狀態的輸出，有記憶功能，CNN用於靜態輸出\n",
    "3. CNN高級100+深度，RNN深度有限"
   ]
  }
 ],
 "metadata": {
  "kernelspec": {
   "display_name": "Python 3",
   "language": "python",
   "name": "python3"
  },
  "language_info": {
   "codemirror_mode": {
    "name": "ipython",
    "version": 3
   },
   "file_extension": ".py",
   "mimetype": "text/x-python",
   "name": "python",
   "nbconvert_exporter": "python",
   "pygments_lexer": "ipython3",
   "version": "3.6.8"
  }
 },
 "nbformat": 4,
 "nbformat_minor": 2
}
